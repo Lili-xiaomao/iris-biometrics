{
  "nbformat": 4,
  "nbformat_minor": 0,
  "metadata": {
    "colab": {
      "provenance": []
    },
    "kernelspec": {
      "name": "python3",
      "display_name": "Python 3"
    },
    "language_info": {
      "name": "python"
    }
  },
  "cells": [
    {
      "cell_type": "code",
      "execution_count": 1,
      "metadata": {
        "colab": {
          "base_uri": "https://localhost:8080/"
        },
        "id": "n3cviQYIQpvl",
        "outputId": "46ff9161-11c3-4103-b3b5-be5656d646a7"
      },
      "outputs": [
        {
          "output_type": "stream",
          "name": "stdout",
          "text": [
            "Hello, Iris Biometrics!\n"
          ]
        }
      ],
      "source": [
        "print(\"Hello, Iris Biometrics!\")"
      ]
    }
  ]
}